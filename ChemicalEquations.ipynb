{
 "cells": [
  {
   "cell_type": "markdown",
   "metadata": {},
   "source": [
    "# Solve a given chemical equation"
   ]
  },
  {
   "cell_type": "markdown",
   "metadata": {},
   "source": [
    "## Task-1: Design a input scheme for the user to input a chemical equation that need to be balanced.\n",
    "\n"
   ]
  },
  {
   "cell_type": "code",
   "execution_count": 65,
   "metadata": {},
   "outputs": [
    {
     "name": "stdout",
     "output_type": "stream",
     "text": [
      "Populating the interactive namespace from numpy and matplotlib\n"
     ]
    }
   ],
   "source": [
    "import re\n",
    "%pylab inline\n",
    "%matplotlib inline"
   ]
  },
  {
   "cell_type": "code",
   "execution_count": 66,
   "metadata": {},
   "outputs": [],
   "source": [
    "string=\"H 2 + O 2 = H 2 O\""
   ]
  },
  {
   "cell_type": "code",
   "execution_count": 67,
   "metadata": {},
   "outputs": [],
   "source": [
    "atoms = set(re.split('[ 0-9+=]+',string))"
   ]
  },
  {
   "cell_type": "code",
   "execution_count": 79,
   "metadata": {},
   "outputs": [
    {
     "name": "stdout",
     "output_type": "stream",
     "text": [
      "['H 2 ', 'O 2 ']\n"
     ]
    }
   ],
   "source": [
    "[react,prod] = (re.split('= ',string))\n",
    "react_list= list(filter(None,(react.split(sep=\"+ \"))))\n",
    "prod_list = list(filter(None,(prod.split(sep=\"+ \"))))\n",
    "print(react_list)"
   ]
  },
  {
   "cell_type": "markdown",
   "metadata": {},
   "source": [
    "# TASK 1a: Write a function that will take one chemical (reactant or product) and return chemical_composition_vector\n",
    "\n",
    "Consider reaction ' H 2 + O 2 = H 2 O '\n",
    "- set atomList is {'O','H'}\n",
    "- For ' H 2 ', vector is [0, 2]\n",
    "- For ' O 2 ', vector is [2, 0]\n",
    "- For 'H 2 O', vector is [-1, -2] (minus sign because of H2O being product"
   ]
  },
  {
   "cell_type": "code",
   "execution_count": 69,
   "metadata": {},
   "outputs": [],
   "source": [
    "def chemical_composition_vector( molecule,prod, atomList ):\n",
    "    vec = [0]*len(atomList)\n",
    "    \n",
    "    element=list(filter(None,(re.split(' ',molecule))))\n",
    "    \n",
    "    for i in range(len(element)):\n",
    "        if(element[i].isdigit()):\n",
    "            continue\n",
    "        else:\n",
    "            j = 0\n",
    "            for z in atomList:\n",
    "                if( z == element[i] ):\n",
    "                    break\n",
    "                else:\n",
    "                    j += 1\n",
    "            if( (i+1)<len(element)):\n",
    "                if element[i+1].isdigit() :\n",
    "                    vec[j] = int(element[i+1])\n",
    "            else:\n",
    "                vec[j] = 1\n",
    "    if(prod==molecule):        \n",
    "        return [ -x for x in vec]\n",
    "    else:\n",
    "        return vec"
   ]
  },
  {
   "cell_type": "code",
   "execution_count": 70,
   "metadata": {},
   "outputs": [
    {
     "data": {
      "text/plain": [
       "[-1, -2]"
      ]
     },
     "execution_count": 70,
     "metadata": {},
     "output_type": "execute_result"
    }
   ],
   "source": [
    "chemical_composition_vector(\"H 2 O\",prod, atoms)"
   ]
  },
  {
   "cell_type": "markdown",
   "metadata": {},
   "source": [
    "## Task-2: From the input, get into a form that is suitable for mathematical manipulations\n",
    "\n",
    "\n",
    "\n",
    "1. Lets say that you have atom types $A_1, A_2, \\cdots A_N$. \n",
    "2. Write each chemical component as a $N$ dimensional vector \n",
    "3. Suppose the balanced the chemical reaction is where $R_i$ are reactants and $P_i$ are products, and we require that $r_i$ and $p_i$ be integers... \n",
    "$$ r_1 R_1 + r_2 R_2 +\\cdots - (p_1 P_1 + p_1 P_2 ) = 0$$ \n",
    "3. Set up a system of $N$ simulatneous equations, and solve for it to get $r_i$ and $p_i$\n",
    "4. What are the conditions under which there is NO solution? "
   ]
  },
  {
   "cell_type": "code",
   "execution_count": 73,
   "metadata": {},
   "outputs": [
    {
     "name": "stdout",
     "output_type": "stream",
     "text": [
      "[0, 2]\n",
      "[2, 0]\n",
      "[-1, -2]\n"
     ]
    }
   ],
   "source": [
    "print(chemical_composition_vector(\"H 2\",prod, atoms))\n",
    "print(chemical_composition_vector(\"O 2\",prod, atoms))\n",
    "print(chemical_composition_vector(\"H 2 O\",prod, atoms))"
   ]
  },
  {
   "cell_type": "code",
   "execution_count": 91,
   "metadata": {},
   "outputs": [],
   "source": [
    "def atomtype(A_n):\n",
    "    no=(len(react_list)+len(prod_list))*[0]\n",
    "    j=0\n",
    "    for i in react_list:\n",
    "        no[j]=chemical_composition_vector(i,prod,A_n)\n",
    "        j+=1\n",
    "    for i in prod_list:\n",
    "        a=chemical_composition_vector(i,prod,A_n)\n",
    "        no[j]=[ -x for x in a]\n",
    "        j+=1\n",
    "    return no"
   ]
  },
  {
   "cell_type": "code",
   "execution_count": 96,
   "metadata": {},
   "outputs": [
    {
     "name": "stdout",
     "output_type": "stream",
     "text": [
      "[[0, 2], [2, 0], [1, 2]]\n",
      "[[0, 2, 1], [2, 0, 2]]\n"
     ]
    }
   ],
   "source": [
    "no=atomtype(atoms)\n",
    "print(no)\n",
    "c=[0]*(len (no[0]))\n",
    "for j in range (len (no[0])):\n",
    "    c[j]=[item[j] for item in no]\n",
    "print(c)"
   ]
  },
  {
   "cell_type": "code",
   "execution_count": 101,
   "metadata": {},
   "outputs": [
    {
     "name": "stdout",
     "output_type": "stream",
     "text": [
      "[0. 0. 0.]\n",
      "[0. 0. 0.]\n"
     ]
    }
   ],
   "source": [
    "null_vec = np.array([0, 0])\n",
    "r=np.linalg.lstsq(c, null_vec,  rcond=None)[0]\n",
    "p=np.linalg.lstsq(c, null_vec,  rcond=None)[0]\n",
    "print(p)\n",
    "print(r)"
   ]
  },
  {
   "cell_type": "code",
   "execution_count": 119,
   "metadata": {},
   "outputs": [
    {
     "name": "stdout",
     "output_type": "stream",
     "text": [
      "[2, 0, [0, 2], [...]]\n",
      "[1, 2]\n",
      "[[0, 2], [2, 0]]\n"
     ]
    }
   ],
   "source": [
    "for i in range(len(no)):\n",
    "    if i == len(no)-1:\n",
    "        p1=no[i]\n",
    "    else:\n",
    "        r1=no[i]\n",
    "print(r1)\n",
    "print(p1)\n",
    "R2=[[0, 2], [2, 0]]\n",
    "print(R2)"
   ]
  },
  {
   "cell_type": "markdown",
   "metadata": {},
   "source": [
    "## Task-3: Using the solution above, output the balanced equation"
   ]
  },
  {
   "cell_type": "markdown",
   "metadata": {},
   "source": [
    "considering one molecule of product"
   ]
  },
  {
   "cell_type": "code",
   "execution_count": 146,
   "metadata": {},
   "outputs": [
    {
     "name": "stdout",
     "output_type": "stream",
     "text": [
      "r1 =  1.0\n",
      "r2 =  0.5\n"
     ]
    }
   ],
   "source": [
    "R = [[0, 2], [2, 0]]\n",
    "p1 = [1, 2]\n",
    "p=1\n",
    "r3, r4= np.linalg.solve(R, p1)\n",
    "print(\"r1 = \", r3)\n",
    "print(\"r2 = \", r4)"
   ]
  },
  {
   "cell_type": "code",
   "execution_count": 147,
   "metadata": {},
   "outputs": [],
   "source": [
    "r3, r4, p = 2*r3, 2*r4, 2*p"
   ]
  },
  {
   "cell_type": "code",
   "execution_count": 148,
   "metadata": {},
   "outputs": [
    {
     "name": "stdout",
     "output_type": "stream",
     "text": [
      "coeff of H2 =  2.0\n",
      "coeff of O2 =  1.0\n",
      "coeff of H2O =  2\n"
     ]
    }
   ],
   "source": [
    "print(\"coeff of H2 = \", r3)\n",
    "print(\"coeff of O2 = \", r4)\n",
    "print(\"coeff of H2O = \", p)"
   ]
  },
  {
   "cell_type": "markdown",
   "metadata": {},
   "source": [
    "## Task-4: If the above is working, can you wrap the whole program in a single function, which will take the input and give the proper output?\n",
    "\n",
    "Given the string 'eqn', the output of the function that you will write, called BalanceChemicalEquation(eqn), will be the balanced chemical equation or a proper error"
   ]
  },
  {
   "cell_type": "code",
   "execution_count": 149,
   "metadata": {},
   "outputs": [],
   "source": [
    "def BalanceChemicalEquation(eqn):\n",
    "    atoms = set(re.split('[ 0-9+=]+',string))\n",
    "    [react,prod] = (re.split('= ',string))\n",
    "    react_list= list(filter(None,(react.split(sep=\"+ \"))))\n",
    "    prod_list = list(filter(None,(prod.split(sep=\"+ \"))))\n",
    "    \n",
    "    no=atomtype(atoms)\n",
    "    print(no)\n",
    "    c=[0]*(len (no[0]))\n",
    "    for j in range (len (no[0])):\n",
    "        c[j]=[item[j] for item in no]\n",
    "    null_vec = np.array([0, 0])\n",
    "    r=np.linalg.lstsq(c, null_vec,  rcond=None)[0]\n",
    "    p=np.linalg.lstsq(c, null_vec,  rcond=None)[0]\n",
    "    for i in range(len(no)):\n",
    "        if i == len(no)-1:\n",
    "            p1=no[i]\n",
    "        else:\n",
    "            r1=no[i]\n",
    "    r3, r4= np.linalg.solve(r1, p1)\n",
    "    # print coefficients now"
   ]
  }
 ],
 "metadata": {
  "kernelspec": {
   "display_name": "Python 3 (ipykernel)",
   "language": "python",
   "name": "python3"
  },
  "language_info": {
   "codemirror_mode": {
    "name": "ipython",
    "version": 3
   },
   "file_extension": ".py",
   "mimetype": "text/x-python",
   "name": "python",
   "nbconvert_exporter": "python",
   "pygments_lexer": "ipython3",
   "version": "3.8.10"
  }
 },
 "nbformat": 4,
 "nbformat_minor": 2
}
