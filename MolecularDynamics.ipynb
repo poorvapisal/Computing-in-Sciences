{
 "cells": [
  {
   "cell_type": "code",
   "execution_count": 16,
   "id": "8fb6b724",
   "metadata": {},
   "outputs": [],
   "source": [
    "from scipy.optimize import fixed_point\n",
    "import numpy as np\n",
    "import matplotlib.pyplot as plt"
   ]
  },
  {
   "cell_type": "code",
   "execution_count": 38,
   "id": "f508bafb",
   "metadata": {},
   "outputs": [],
   "source": [
    "class simulation_lj:\n",
    "    '''class method to run a simulation of identical LJ particles'''\n",
    "    \n",
    "    def __init__(self, numOfParticles, dimensionality):\n",
    "        '''initialise positions, momenta, forces'''\n",
    "        # create arrays: posiitons, momenta, forces,\n",
    "        self.N = numParticles\n",
    "        self.dim = dimensionality\n",
    "        self.positions = np.zeros((self.N,self.dim))\n",
    "        self.velocities = np.zeros((self.N,self.dim))\n",
    "        self.forces = np.zeros((self.N,self.dim))\n",
    "        self.momenta = np.zeros((self.N,self.dim))\n",
    "        self.sigma = 1.0\n",
    "        self.epsilon = 1.0\n",
    "        self.side = 0.0\n",
    "    \n",
    "    def set_positions_cube (self, cubeSide):\n",
    "        '''set the positions of the particles, randomly inside a cube \n",
    "        of length cubeSide'''\n",
    "        \n",
    "        self.side = cubeSide\n",
    "        self.positions = np.random.random_sample( (self.N, self.dim))* self.side\n",
    "        \n",
    "    def set_momenta_rest (self):\n",
    "        '''set the momentum of all particles to zero'''\n",
    "        \n",
    "        self.momenta = np.zeros((self.N,self.dim))\n",
    "        \n",
    "    def calc_forces(self):\n",
    "        '''at the current position given by array positions, calculate\n",
    "        the forces due to LJ interactions between all of them'''\n",
    "        \n",
    "        for i in range(0, self.N - 1):\n",
    "            for j in range(i + 1, self.N):\n",
    "                r_x = positions[j] - positions[i]\n",
    "                rmag = np.sqrt(r_x * r_x)\n",
    "                force_scalar = lj_force(rmag)\n",
    "                force_x = force_scalar * r_x / rmag\n",
    "            self.forces[i] = force_x\n",
    "                \n",
    "    def lj_force(r):\n",
    "        \n",
    "        return 48 * self.epsilon * np.power(self.sigma, 12) / np.power(r, 13) - 24 * self.epsilon * np.power(self.sigma, 6) / np.power(r, 7)\n",
    "        \n",
    "    def euler_integrate(self, dt, numSteps):\n",
    "        '''integrate the Newton Equation of Motion with time step dt, \n",
    "        for a total of numSteps times'''\n",
    "        calc_forces()\n",
    "        \n",
    "        for n in range(numSteps):\n",
    "            \n",
    "            self.positions += dt * self.velocities\n",
    "            self.velocities += dt * self.forces \n",
    "            \n",
    "    def write_positions(self, fileName):\n",
    "        '''write the current positions to the file 'fileName' '''\n",
    "        \n",
    "        file = open(fileName, \"w\") \n",
    "        file.write(self.positions)\n",
    "        file.close()\n",
    "        \n",
    "    def potential_energy(self):\n",
    "        '''calculate the current total Potential energy of the system'''\n",
    "        \n",
    "        for p_j in range(self.N):\n",
    "            for p_i in range(p_j):\n",
    "                PE +=  self.pe_twoParticle(p_i,p_j)\n",
    "                \n",
    "    def pe_twoParticle(self,p_i,p_j):\n",
    "        '''LJ interaction energy between particle p_i and p_j'''\n",
    "        d_ij = np.linalg.norm ( self.positions[p_i] - self.positions[p_j])\n",
    "        p = pow(self.sigma / d_ij, 6)\n",
    "        return 4*self.epsilon*p*(p-1)\n",
    "                \n",
    "    #def test_set_particle_positions():"
   ]
  },
  {
   "cell_type": "code",
   "execution_count": 10,
   "id": "c0844068",
   "metadata": {},
   "outputs": [
    {
     "name": "stdout",
     "output_type": "stream",
     "text": [
      "[0. 0. 0.]\n"
     ]
    }
   ],
   "source": [
    "pos = np.zeros((5,3))\n",
    "print (pos[4])"
   ]
  },
  {
   "cell_type": "code",
   "execution_count": 11,
   "id": "a4ac0a01",
   "metadata": {},
   "outputs": [],
   "source": [
    "pos=[[1,2,3],[4,5,6],[7,8,9],[10,11,12],[13,14,15],[16,17,18]]"
   ]
  },
  {
   "cell_type": "code",
   "execution_count": 13,
   "id": "79a80f33",
   "metadata": {},
   "outputs": [
    {
     "name": "stdout",
     "output_type": "stream",
     "text": [
      "[13, 14, 15]\n"
     ]
    }
   ],
   "source": [
    "print (pos[4])"
   ]
  },
  {
   "cell_type": "code",
   "execution_count": 19,
   "id": "29fd5f73",
   "metadata": {},
   "outputs": [
    {
     "name": "stdout",
     "output_type": "stream",
     "text": [
      "idx=0\n",
      "vec=[1, 2, 3]\n",
      "[ 0.          5.19615242 10.39230485 15.58845727 20.78460969 25.98076211]\n",
      "[ 5.19615242 10.39230485 15.58845727 20.78460969 25.98076211]\n",
      "idx=1\n",
      "vec=[4, 5, 6]\n",
      "[ 5.19615242  0.          5.19615242 10.39230485 15.58845727 20.78460969]\n",
      "[ 5.19615242  5.19615242 10.39230485 15.58845727 20.78460969]\n",
      "idx=2\n",
      "vec=[7, 8, 9]\n",
      "[10.39230485  5.19615242  0.          5.19615242 10.39230485 15.58845727]\n",
      "[10.39230485  5.19615242  5.19615242 10.39230485 15.58845727]\n",
      "idx=3\n",
      "vec=[10, 11, 12]\n",
      "[15.58845727 10.39230485  5.19615242  0.          5.19615242 10.39230485]\n",
      "[15.58845727 10.39230485  5.19615242  5.19615242 10.39230485]\n",
      "idx=4\n",
      "vec=[13, 14, 15]\n",
      "[20.78460969 15.58845727 10.39230485  5.19615242  0.          5.19615242]\n",
      "[20.78460969 15.58845727 10.39230485  5.19615242  5.19615242]\n",
      "idx=5\n",
      "vec=[16, 17, 18]\n",
      "[25.98076211 20.78460969 15.58845727 10.39230485  5.19615242  0.        ]\n",
      "[25.98076211 20.78460969 15.58845727 10.39230485  5.19615242]\n"
     ]
    }
   ],
   "source": [
    "for idx, vec in enumerate(pos):\n",
    "    print (\"idx=\" + str(idx))\n",
    "    print (\"vec=\" + str(vec))\n",
    "    r = np.linalg.norm(np.array(vec)-np.array(pos), axis = 1)\n",
    "    print (r)\n",
    "    r = np.delete(r, idx)\n",
    "    print (r)"
   ]
  },
  {
   "cell_type": "code",
   "execution_count": 45,
   "id": "09a4a8f4",
   "metadata": {},
   "outputs": [],
   "source": [
    "def lj_force(r, epsilon, sigma):\n",
    "        \n",
    "        return 48 * epsilon * np.power(\n",
    "        sigma, 12) / np.power(\n",
    "        r, 13) - 24 * epsilon * np.power(\n",
    "        sigma, 6) / np.power(r, 7)\n",
    "    \n",
    "f = np.zeros((6, 3))\n",
    "for i in range(0, 5):\n",
    "    for j in range(i + 1, 6):\n",
    "        r_x = np.array(pos[j]) - np.array(pos[i])\n",
    "        rmag = np.sqrt(r_x * r_x)\n",
    "        force_scalar = lj_force(rmag, 0.0103, 3.4)\n",
    "        force_x = force_scalar * r_x / rmag\n",
    "    f[i] = force_x  #eV Å-1 amu-1\n",
    "        \n"
   ]
  },
  {
   "cell_type": "code",
   "execution_count": 46,
   "id": "680abda5",
   "metadata": {},
   "outputs": [
    {
     "data": {
      "text/plain": [
       "[<matplotlib.lines.Line2D at 0x7fd2ea897700>,\n",
       " <matplotlib.lines.Line2D at 0x7fd2ea897730>,\n",
       " <matplotlib.lines.Line2D at 0x7fd2ea897850>]"
      ]
     },
     "execution_count": 46,
     "metadata": {},
     "output_type": "execute_result"
    },
    {
     "data": {
      "image/png": "[encoded data removed]",
      "text/plain": [
       "<Figure size 432x288 with 1 Axes>"
      ]
     },
     "metadata": {
      "needs_background": "light"
     },
     "output_type": "display_data"
    }
   ],
   "source": [
    "plt.plot(pos,f)"
   ]
  },
  {
   "cell_type": "code",
   "execution_count": null,
   "id": "71913c99",
   "metadata": {},
   "outputs": [],
   "source": []
  }
 ],
 "metadata": {
  "kernelspec": {
   "display_name": "Python 3 (ipykernel)",
   "language": "python",
   "name": "python3"
  },
  "language_info": {
   "codemirror_mode": {
    "name": "ipython",
    "version": 3
   },
   "file_extension": ".py",
   "mimetype": "text/x-python",
   "name": "python",
   "nbconvert_exporter": "python",
   "pygments_lexer": "ipython3",
   "version": "3.8.10"
  }
 },
 "nbformat": 4,
 "nbformat_minor": 5
}
