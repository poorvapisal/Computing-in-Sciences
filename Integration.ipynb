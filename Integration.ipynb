{
 "cells": [
  {
   "cell_type": "code",
   "execution_count": 294,
   "id": "1263cd06",
   "metadata": {},
   "outputs": [],
   "source": [
    "import math\n",
    "import random\n",
    "from scipy.integrate import quad"
   ]
  },
  {
   "cell_type": "code",
   "execution_count": 295,
   "id": "ed2b9fe9",
   "metadata": {},
   "outputs": [],
   "source": [
    "import numpy as np\n",
    "import matplotlib.pyplot as plt\n",
    "%matplotlib inline"
   ]
  },
  {
   "cell_type": "markdown",
   "id": "bc39bb05",
   "metadata": {},
   "source": [
    "Task 1 - Using a function to calculate area of a unit circle (using trapezoidal method)"
   ]
  },
  {
   "cell_type": "code",
   "execution_count": 296,
   "id": "55b99beb",
   "metadata": {},
   "outputs": [],
   "source": [
    "def semi_circle(x):\n",
    "    return math.sqrt(abs(1-x*x))"
   ]
  },
  {
   "cell_type": "code",
   "execution_count": 297,
   "id": "635e9314",
   "metadata": {},
   "outputs": [],
   "source": [
    "def trap_int(f, a, b, n):\n",
    "    interval = float(b - a) / n\n",
    "    s = 0.0\n",
    "    s += f(a)/2.0\n",
    "    for i in range(n):\n",
    "        s += f(a + i*interval)\n",
    "    s += f(b)/2.0\n",
    "    return s * interval"
   ]
  },
  {
   "cell_type": "code",
   "execution_count": 298,
   "id": "b8391ecb",
   "metadata": {},
   "outputs": [
    {
     "name": "stdout",
     "output_type": "stream",
     "text": [
      "Area of a unit circle will be 3.1382685110984996\n"
     ]
    }
   ],
   "source": [
    "area = trap_int(lambda x:semi_circle(x), -1, 1, 100)\n",
    "print (\"Area of a unit circle will be \" + str(area*2))"
   ]
  },
  {
   "cell_type": "markdown",
   "id": "9f91356c",
   "metadata": {},
   "source": [
    "Area using scipy.integrate"
   ]
  },
  {
   "cell_type": "code",
   "execution_count": 299,
   "id": "c536bb80",
   "metadata": {},
   "outputs": [
    {
     "name": "stdout",
     "output_type": "stream",
     "text": [
      "Area of a unit circle will be 3.1415926535897967\n"
     ]
    }
   ],
   "source": [
    "area1 = quad(lambda x:semi_circle(x), -1, 1)\n",
    "print (\"Area of a unit circle will be \" + str(area1[0]*2))"
   ]
  },
  {
   "cell_type": "markdown",
   "id": "266a825c",
   "metadata": {},
   "source": [
    "Task 2 - Area of a unit circle using adaptive grid method"
   ]
  },
  {
   "cell_type": "code",
   "execution_count": 300,
   "id": "8f407e27",
   "metadata": {},
   "outputs": [],
   "source": [
    "def adaptive_integration(f, a, b, eps, n):\n",
    "    limit = 100000  \n",
    "    a1 = trap_int(f, a, b, n)\n",
    "    a2 = trap_int(f, a, b, 2*n)\n",
    "    diff = abs(a1 - a2)\n",
    "\n",
    "    while (diff > eps) and (n < limit):\n",
    "        a1 = trap_int(f, a, b, n)\n",
    "        a2 = trap_int(f, a, b, 2*n)\n",
    "        diff = abs(a1 - a2)\n",
    "        n *= 2\n",
    "        \n",
    "    if diff <= eps:\n",
    "        print (\"The integral for given function computes to: \" + str(a2))\n",
    "        return a2  "
   ]
  },
  {
   "cell_type": "code",
   "execution_count": 301,
   "id": "26543c47",
   "metadata": {},
   "outputs": [
    {
     "name": "stdout",
     "output_type": "stream",
     "text": [
      "The integral for given function computes to: 1.5705884724197643\n",
      "Area of a unit circle will be 3.1411769448395286\n"
     ]
    }
   ],
   "source": [
    "area = adaptive_integration(lambda x:semi_circle(x), -1, 1, 0.001, 200)\n",
    "print (\"Area of a unit circle will be \" + str(area*2))"
   ]
  },
  {
   "cell_type": "code",
   "execution_count": 302,
   "id": "29bc3618",
   "metadata": {},
   "outputs": [],
   "source": [
    "def derivative_circle(x):\n",
    "    return(-1*x)/(math.sqrt(1-x*x))"
   ]
  },
  {
   "cell_type": "code",
   "execution_count": 303,
   "id": "b3be33da",
   "metadata": {},
   "outputs": [],
   "source": [
    "def AdaptiveGrid(f, der, a, b, n,eps):\n",
    "    h = (b-a)/n\n",
    "    x = np.linspace(a, b, n)\n",
    "    \n",
    "    area = 0\n",
    "    dist_x = 0\n",
    "    k = 1\n",
    "    v1 = x[1]\n",
    "    \n",
    "    for i in range(1, len(x)-1):\n",
    "        v2 = x[i]\n",
    "        if (abs( abs(der(v1))-abs(der(v2)) ) < eps):\n",
    "            dist_x += h\n",
    "            k += 1\n",
    "            \n",
    "        else :\n",
    "            area += f((v2 + v1)/k)*dist_x\n",
    "            v1 = x[i+1]\n",
    "            count = 1\n",
    "    return area"
   ]
  },
  {
   "cell_type": "code",
   "execution_count": 304,
   "id": "b2c83b3d",
   "metadata": {},
   "outputs": [
    {
     "data": {
      "text/plain": [
       "3.832616859959694"
      ]
     },
     "execution_count": 304,
     "metadata": {},
     "output_type": "execute_result"
    }
   ],
   "source": [
    "AdaptiveGrid(semi_circle,derivative_circle, -1, 1, 100, 1)/(pi/2)"
   ]
  },
  {
   "cell_type": "markdown",
   "id": "c067cf63",
   "metadata": {},
   "source": [
    " Task 3 - Compute the area of the quarter unit circle (1st quadrant) using simple Monte Carlo method"
   ]
  },
  {
   "cell_type": "code",
   "execution_count": 74,
   "id": "4ce66154",
   "metadata": {},
   "outputs": [
    {
     "name": "stdout",
     "output_type": "stream",
     "text": [
      "Enter the total number of points: 10000\n",
      "Enter the radius of the circle: 1\n",
      "The area of the circle is: 3.1448\n",
      "The area of quarter circle is: 0.7862\n"
     ]
    },
    {
     "data": {
      "image/png": "[encoded data removed]",
      "text/plain": [
       "<Figure size 432x288 with 1 Axes>"
      ]
     },
     "metadata": {
      "needs_background": "light"
     },
     "output_type": "display_data"
    }
   ],
   "source": [
    "in_pt = 0\n",
    "i=1\n",
    "n=int(input(\"Enter the total number of points: \"))\n",
    "s=int(input(\"Enter the radius of the circle: \"))\n",
    "while (i<=n):\n",
    "  x = random.random()\n",
    "  y = random.random()\n",
    "  if ((x**2)+(y**2))<=1:\n",
    "    in_pt+=1\n",
    "    plt.plot(x , y , 'go')\n",
    "  else:\n",
    "    plt.plot(x , y , 'ro')\n",
    "  i+=1\n",
    "area=(in_pt)/n\n",
    "\n",
    "print (\"The area of the circle is: \", end=\"\")\n",
    "print(area*(s*2)*(s*2))\n",
    "print (\"The area of quarter circle is: \", end=\"\")\n",
    "print(area)\n",
    "\n",
    "horiz = np.array(range(100))/100.0\n",
    "y_1 = np.ones(100)\n",
    "plt.plot(horiz , y_1, 'b')\n",
    "vert = np.array(range(100))/100.0\n",
    "x_1 = np.ones(100)\n",
    "plt.plot(x_1 , vert, 'b')\n",
    "\n",
    "\n",
    "plt.xlabel('x')\n",
    "plt.ylabel('y')\n",
    "plt.title('Quarter circle random point visualisation')\n",
    "plt.show()"
   ]
  },
  {
   "cell_type": "code",
   "execution_count": 89,
   "id": "a68f7e0e",
   "metadata": {},
   "outputs": [],
   "source": [
    "def simple_mc_circle (n1,r):\n",
    "    in_pt = 0\n",
    "    i=1\n",
    "    while (i<=n1):\n",
    "        x = random.random()\n",
    "        y = random.random()\n",
    "        \n",
    "        if ((x**2)+(y**2))<=1:\n",
    "            in_pt+=1\n",
    "        i+=1\n",
    "    return(in_pt)/n1"
   ]
  },
  {
   "cell_type": "code",
   "execution_count": 95,
   "id": "eb42e3e0",
   "metadata": {},
   "outputs": [],
   "source": [
    "n = 100\n",
    "\n",
    "n_val = []\n",
    "n_area = []\n",
    "n_val = np.linspace(1,n,n)\n",
    "for i in n_val :\n",
    "    n_area.append(simple_mc_circle(n,1))"
   ]
  },
  {
   "cell_type": "code",
   "execution_count": 97,
   "id": "e47df5ea",
   "metadata": {},
   "outputs": [
    {
     "data": {
      "image/png": "[encoded data removed]",
      "text/plain": [
       "<Figure size 432x288 with 1 Axes>"
      ]
     },
     "metadata": {
      "needs_background": "light"
     },
     "output_type": "display_data"
    }
   ],
   "source": [
    "plt.plot(n_val,n_area, \"o-\")\n",
    "plt.title('Simple Monte Carlo for a quarter-circle')\n",
    "plt.xlabel('n (number of intervals)')\n",
    "plt.ylabel('area')\n",
    "plt.show()"
   ]
  },
  {
   "cell_type": "markdown",
   "id": "51cca7f8",
   "metadata": {},
   "source": [
    "Task 4.1 - Compute area of circle with  𝜌(𝑥)=constant"
   ]
  },
  {
   "cell_type": "code",
   "execution_count": 120,
   "id": "03bdf920",
   "metadata": {},
   "outputs": [],
   "source": [
    "def MonteCarlo_const(f,a,b,num):\n",
    "    \n",
    "    sum = 0.0\n",
    "    for i in range(num):\n",
    "        x = np.random.uniform()*(b-a)\n",
    "        x += a\n",
    "        sum += f(x)\n",
    "    \n",
    "    return sum*(b-a)/num"
   ]
  },
  {
   "cell_type": "code",
   "execution_count": 121,
   "id": "39bf0ca6",
   "metadata": {},
   "outputs": [
    {
     "name": "stdout",
     "output_type": "stream",
     "text": [
      "The area of the circle is: 3.1730406900207493\n"
     ]
    }
   ],
   "source": [
    "area = MonteCarlo_const(semi_circle,-1,1,500)\n",
    "print (\"The area of the circle is: \", end=\"\")\n",
    "print(area*2)"
   ]
  },
  {
   "cell_type": "markdown",
   "id": "507833cf",
   "metadata": {},
   "source": [
    "Task 4.2 - Compute the are of the circle with  𝜌(𝑥)  being the Gaussian distribution (i.e. normal distribution)"
   ]
  },
  {
   "cell_type": "code",
   "execution_count": 209,
   "id": "f88fd94e",
   "metadata": {},
   "outputs": [],
   "source": [
    "def MonteCarloIntegration(f, a, b, num,v1,v2):\n",
    "    sum = 0.0\n",
    "    for i in range(num):\n",
    "        x = np.random.normal(0,1) \n",
    "        if not(x<b and x>a) :\n",
    "            continue\n",
    "        sum += float(f(x)/gauss(x,v1,v2))\n",
    "    \n",
    "    return sum/num"
   ]
  },
  {
   "cell_type": "code",
   "execution_count": 210,
   "id": "81f713e4",
   "metadata": {},
   "outputs": [],
   "source": [
    "def gauss(x,v1,v2):\n",
    "    return (1/math.sqrt(2*pi))*math.exp((-(v1-x)*(v1-x)/(2*v2)))"
   ]
  },
  {
   "cell_type": "code",
   "execution_count": 219,
   "id": "fcce989d",
   "metadata": {},
   "outputs": [
    {
     "name": "stdout",
     "output_type": "stream",
     "text": [
      "The area of the semi circle is: 1.5843161192877597\n",
      "The area of the unit circle is: 3.1686322385755195\n"
     ]
    }
   ],
   "source": [
    "area = MonteCarloIntegration(semi_circle,-1,1, 1000,0,1)\n",
    "print (\"The area of the semi circle is: \", end=\"\")\n",
    "print(area)\n",
    "print (\"The area of the unit circle is: \", end=\"\")\n",
    "print(area*2)"
   ]
  }
 ],
 "metadata": {
  "kernelspec": {
   "display_name": "Python 3 (ipykernel)",
   "language": "python",
   "name": "python3"
  },
  "language_info": {
   "codemirror_mode": {
    "name": "ipython",
    "version": 3
   },
   "file_extension": ".py",
   "mimetype": "text/x-python",
   "name": "python",
   "nbconvert_exporter": "python",
   "pygments_lexer": "ipython3",
   "version": "3.8.10"
  }
 },
 "nbformat": 4,
 "nbformat_minor": 5
}
